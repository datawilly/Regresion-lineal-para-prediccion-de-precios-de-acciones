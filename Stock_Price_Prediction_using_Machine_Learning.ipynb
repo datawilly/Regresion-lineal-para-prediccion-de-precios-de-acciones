{
  "nbformat": 4,
  "nbformat_minor": 0,
  "metadata": {
    "colab": {
      "name": "Stock Price Prediction using Machine Learning.ipynb",
      "provenance": [],
      "authorship_tag": "ABX9TyMMS6rABw73uiWaF3thSIMz",
      "include_colab_link": true
    },
    "kernelspec": {
      "name": "python3",
      "display_name": "Python 3"
    },
    "language_info": {
      "name": "python"
    }
  },
  "cells": [
    {
      "cell_type": "markdown",
      "metadata": {
        "id": "view-in-github",
        "colab_type": "text"
      },
      "source": [
        "<a href=\"https://colab.research.google.com/github/willydata/Regresion-lineal-para-prediccion-de-precios-de-acciones/blob/main/Stock_Price_Prediction_using_Machine_Learning.ipynb\" target=\"_parent\"><img src=\"https://colab.research.google.com/assets/colab-badge.svg\" alt=\"Open In Colab\"/></a>"
      ]
    },
    {
      "cell_type": "code",
      "metadata": {
        "id": "qPQ501vw0P6_"
      },
      "source": [
        "import pandas as pd\n",
        "import numpy as np\n",
        "from sklearn import preprocessing\n",
        "from sklearn.model_selection import train_test_split\n",
        "from sklearn.linear_model import LinearRegression"
      ],
      "execution_count": 1,
      "outputs": []
    },
    {
      "cell_type": "code",
      "metadata": {
        "colab": {
          "base_uri": "https://localhost:8080/"
        },
        "id": "bN66GmExNPg1",
        "outputId": "b6d1b802-dd05-4a9d-e1fa-bce4d6e96313"
      },
      "source": [
        "import requests\n",
        "\n",
        "download_url = \"https://query1.finance.yahoo.com/v7/finance/download/GOOG?period1=1461542400&period2=1619308800&interval=1d&events=history&includeAdjustedClose=true\"\n",
        "target_csv_path = \"Googl.csv\"\n",
        "\n",
        "response = requests.get(download_url)\n",
        "response.raise_for_status()    # Check that the request was successful\n",
        "with open(target_csv_path, \"wb\") as f:\n",
        "    f.write(response.content)\n",
        "print(\"Download ready.\")"
      ],
      "execution_count": 2,
      "outputs": [
        {
          "output_type": "stream",
          "text": [
            "Download ready.\n"
          ],
          "name": "stdout"
        }
      ]
    },
    {
      "cell_type": "code",
      "metadata": {
        "colab": {
          "base_uri": "https://localhost:8080/",
          "height": 206
        },
        "id": "7wEyjZCTNS1M",
        "outputId": "29fa3249-d658-4233-889b-585bdcc34e4f"
      },
      "source": [
        "df = pd.read_csv(\"Googl.csv\")\n",
        "df.tail()"
      ],
      "execution_count": 3,
      "outputs": [
        {
          "output_type": "execute_result",
          "data": {
            "text/html": [
              "<div>\n",
              "<style scoped>\n",
              "    .dataframe tbody tr th:only-of-type {\n",
              "        vertical-align: middle;\n",
              "    }\n",
              "\n",
              "    .dataframe tbody tr th {\n",
              "        vertical-align: top;\n",
              "    }\n",
              "\n",
              "    .dataframe thead th {\n",
              "        text-align: right;\n",
              "    }\n",
              "</style>\n",
              "<table border=\"1\" class=\"dataframe\">\n",
              "  <thead>\n",
              "    <tr style=\"text-align: right;\">\n",
              "      <th></th>\n",
              "      <th>Date</th>\n",
              "      <th>Open</th>\n",
              "      <th>High</th>\n",
              "      <th>Low</th>\n",
              "      <th>Close</th>\n",
              "      <th>Adj Close</th>\n",
              "      <th>Volume</th>\n",
              "    </tr>\n",
              "  </thead>\n",
              "  <tbody>\n",
              "    <tr>\n",
              "      <th>1254</th>\n",
              "      <td>2021-04-19</td>\n",
              "      <td>2291.979980</td>\n",
              "      <td>2318.449951</td>\n",
              "      <td>2287.844971</td>\n",
              "      <td>2302.399902</td>\n",
              "      <td>2302.399902</td>\n",
              "      <td>1234400</td>\n",
              "    </tr>\n",
              "    <tr>\n",
              "      <th>1255</th>\n",
              "      <td>2021-04-20</td>\n",
              "      <td>2307.889893</td>\n",
              "      <td>2309.600098</td>\n",
              "      <td>2271.709961</td>\n",
              "      <td>2293.629883</td>\n",
              "      <td>2293.629883</td>\n",
              "      <td>1088700</td>\n",
              "    </tr>\n",
              "    <tr>\n",
              "      <th>1256</th>\n",
              "      <td>2021-04-21</td>\n",
              "      <td>2285.250000</td>\n",
              "      <td>2295.320068</td>\n",
              "      <td>2258.570068</td>\n",
              "      <td>2293.290039</td>\n",
              "      <td>2293.290039</td>\n",
              "      <td>1196500</td>\n",
              "    </tr>\n",
              "    <tr>\n",
              "      <th>1257</th>\n",
              "      <td>2021-04-22</td>\n",
              "      <td>2293.229980</td>\n",
              "      <td>2303.761963</td>\n",
              "      <td>2256.449951</td>\n",
              "      <td>2267.919922</td>\n",
              "      <td>2267.919922</td>\n",
              "      <td>1054800</td>\n",
              "    </tr>\n",
              "    <tr>\n",
              "      <th>1258</th>\n",
              "      <td>2021-04-23</td>\n",
              "      <td>2283.469971</td>\n",
              "      <td>2325.820068</td>\n",
              "      <td>2278.209961</td>\n",
              "      <td>2315.300049</td>\n",
              "      <td>2315.300049</td>\n",
              "      <td>1433500</td>\n",
              "    </tr>\n",
              "  </tbody>\n",
              "</table>\n",
              "</div>"
            ],
            "text/plain": [
              "            Date         Open         High  ...        Close    Adj Close   Volume\n",
              "1254  2021-04-19  2291.979980  2318.449951  ...  2302.399902  2302.399902  1234400\n",
              "1255  2021-04-20  2307.889893  2309.600098  ...  2293.629883  2293.629883  1088700\n",
              "1256  2021-04-21  2285.250000  2295.320068  ...  2293.290039  2293.290039  1196500\n",
              "1257  2021-04-22  2293.229980  2303.761963  ...  2267.919922  2267.919922  1054800\n",
              "1258  2021-04-23  2283.469971  2325.820068  ...  2315.300049  2315.300049  1433500\n",
              "\n",
              "[5 rows x 7 columns]"
            ]
          },
          "metadata": {
            "tags": []
          },
          "execution_count": 3
        }
      ]
    },
    {
      "cell_type": "code",
      "metadata": {
        "id": "8cXMI2S60VR5"
      },
      "source": [
        "def prepare_data(df,pred_col,pred_num,test_size):\n",
        "  label = df[pred_col].shift(-pred_num)\n",
        "  x = np.array(df[[pred_col]])\n",
        "  x = preprocessing.scale(x)\n",
        "  x_lately = x[-pred_num:]\n",
        "  x = x[:-pred_num]\n",
        "  label.dropna(inplace=True)\n",
        "  y = np.array(label)\n",
        "  x_train,x_test,y_train,y_test = train_test_split(x,y,test_size=test_size,random_state=0)\n",
        "  response = [x_train,x_test,y_train,y_test,x_lately]\n",
        "  return response"
      ],
      "execution_count": 4,
      "outputs": []
    },
    {
      "cell_type": "code",
      "metadata": {
        "id": "2mEkFlfXVmb-"
      },
      "source": [
        "pred_col = 'Close'\n",
        "pred_num = 5\n",
        "test_size = 0.3"
      ],
      "execution_count": 5,
      "outputs": []
    },
    {
      "cell_type": "code",
      "metadata": {
        "id": "NazjW3E00VwL"
      },
      "source": [
        "x_train, x_test, y_train, y_test, x_lately = prepare_data(df,pred_col,pred_num,test_size)"
      ],
      "execution_count": 6,
      "outputs": []
    },
    {
      "cell_type": "code",
      "metadata": {
        "id": "OOoTf2_m0Vz7"
      },
      "source": [
        "model = LinearRegression()"
      ],
      "execution_count": 7,
      "outputs": []
    },
    {
      "cell_type": "code",
      "metadata": {
        "colab": {
          "base_uri": "https://localhost:8080/"
        },
        "id": "f69OmY9K0V2_",
        "outputId": "ab65cb66-6df5-4d64-9e5a-8fe0641d0f75"
      },
      "source": [
        "model.fit(x_train,y_train)"
      ],
      "execution_count": 8,
      "outputs": [
        {
          "output_type": "execute_result",
          "data": {
            "text/plain": [
              "LinearRegression(copy_X=True, fit_intercept=True, n_jobs=None, normalize=False)"
            ]
          },
          "metadata": {
            "tags": []
          },
          "execution_count": 8
        }
      ]
    },
    {
      "cell_type": "code",
      "metadata": {
        "colab": {
          "base_uri": "https://localhost:8080/"
        },
        "id": "ZVtXaqhI0V7B",
        "outputId": "93ae9dfd-db43-4f91-feab-cec43d7aa2bf"
      },
      "source": [
        "score = model.score(x_test,y_test)\n",
        "score"
      ],
      "execution_count": 9,
      "outputs": [
        {
          "output_type": "execute_result",
          "data": {
            "text/plain": [
              "0.9802715138055935"
            ]
          },
          "metadata": {
            "tags": []
          },
          "execution_count": 9
        }
      ]
    },
    {
      "cell_type": "code",
      "metadata": {
        "id": "Uo1nbPJt0V8c"
      },
      "source": [
        "pred = model.predict(x_lately)"
      ],
      "execution_count": 10,
      "outputs": []
    },
    {
      "cell_type": "code",
      "metadata": {
        "colab": {
          "base_uri": "https://localhost:8080/"
        },
        "id": "AeXAZoKE0WBO",
        "outputId": "5462d172-4657-4c57-ac01-02681576f0ca"
      },
      "source": [
        "response = {}\n",
        "response['pred_set']=pred\n",
        "response['test_score'] = score\n",
        "print(response)"
      ],
      "execution_count": 11,
      "outputs": [
        {
          "output_type": "stream",
          "text": [
            "{'pred_set': array([2316.87311544, 2308.02549724, 2307.68264622, 2282.08804845,\n",
            "       2329.88740598]), 'test_score': 0.9802715138055935}\n"
          ],
          "name": "stdout"
        }
      ]
    }
  ]
}